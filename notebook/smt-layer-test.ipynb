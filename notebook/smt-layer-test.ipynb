{
 "cells": [
  {
   "cell_type": "code",
   "execution_count": 6,
   "metadata": {},
   "outputs": [],
   "source": [
    "import z3\n"
   ]
  },
  {
   "cell_type": "code",
   "execution_count": 7,
   "metadata": {},
   "outputs": [
    {
     "name": "stdout",
     "output_type": "stream",
     "text": [
      "p q x\n",
      "[x__0, x__1, x__2, x__3, x__4, x__5, x__6, x__7, x__8, x__9, x__10, x__11]\n",
      "[x__0, x__1, x__2, x__3, x__4, x__5, x__6, x__7, x__8, x__9, x__10, x__11]\n",
      "[x0, x1, x2, x3, x4, x5, x6, x7, x8, x9, x10, x11]\n"
     ]
    }
   ],
   "source": [
    "p, q = z3.Bools([\"p\", \"q\"]) # ブール変数\n",
    "x = z3.Int(\"x\") # 整数変数\n",
    "print(p, q, x)\n",
    "\n",
    "xs = z3.BoolVector(\"x\",12) # ブール変数を複数作成\n",
    "print(xs)\n",
    "xs = z3.IntVector(\"x\",12) # 整数変数を複数作成\n",
    "# 作成された変数名: x__0, x__1, ..., x__12\n",
    "print(xs)\n",
    "\n",
    "xs = [z3.Bool(\"x%d\" % i) for i in range(12)]\n",
    "# 作成された変数名: x0, x1, ..., x12\n",
    "print(xs)\n"
   ]
  },
  {
   "cell_type": "code",
   "execution_count": 8,
   "metadata": {},
   "outputs": [],
   "source": [
    "s = z3.Solver()\n",
    "\n",
    "\n",
    "P1 = q == True\n",
    "P2 = p != q # p ≠ q\n",
    "\n",
    "s.add(P1,P2) # 制約を追加"
   ]
  },
  {
   "cell_type": "code",
   "execution_count": 10,
   "metadata": {},
   "outputs": [
    {
     "name": "stdout",
     "output_type": "stream",
     "text": [
      "sat\n"
     ]
    }
   ],
   "source": [
    "r = s.check()\n",
    "print(r)\n",
    "\n",
    "if r == z3.sat:\n",
    "  m = s.model()"
   ]
  },
  {
   "cell_type": "code",
   "execution_count": 12,
   "metadata": {},
   "outputs": [
    {
     "name": "stdout",
     "output_type": "stream",
     "text": [
      "False\n"
     ]
    }
   ],
   "source": [
    "ans_p = z3.is_true(m[p])\n",
    "print(ans_p)\n"
   ]
  },
  {
   "cell_type": "code",
   "execution_count": 14,
   "metadata": {},
   "outputs": [
    {
     "name": "stdout",
     "output_type": "stream",
     "text": [
      "x1 = False\n",
      "x2 = False\n",
      "x3 = True\n"
     ]
    }
   ],
   "source": [
    "x1,x2,x3 = z3.Bools(\"x1 x2 x3\")\n",
    "\n",
    "s = z3.Solver()\n",
    "\n",
    "P1 = z3.Or(x1,z3.Not(x2)) # x1 ∨ ¬x2\n",
    "P2 = x3\n",
    "P3 = z3.Or(z3.Not(x1),z3.Not(x2)) # ¬x1 ∨ ¬x2\n",
    "\n",
    "s.add(P1,P2,P3) # [x1 ∨ ¬x2, x3, ¬x1 ∨ ¬x2]\n",
    "\n",
    "c = s.check() # sat\n",
    "if c == z3.sat:\n",
    "  m = s.model() # [x3 = True, x2 = False, x1 = False]\n",
    "\n",
    "l = [x1,x2,x3]\n",
    "\n",
    "for i in l:\n",
    "  print(f\"{i} = {z3.is_true(m[i])}\")\n"
   ]
  },
  {
   "cell_type": "code",
   "execution_count": 15,
   "metadata": {},
   "outputs": [
    {
     "name": "stdout",
     "output_type": "stream",
     "text": [
      "[x = 3, y = 1]\n"
     ]
    }
   ],
   "source": [
    "x,y = z3.Ints(\"x y\")\n",
    "\n",
    "P1 = x>2\n",
    "P2 = 0<y\n",
    "P3 = y<3\n",
    "P4 = x+y<5\n",
    "\n",
    "z3.solve(P1,P2,P3,P4)"
   ]
  },
  {
   "cell_type": "code",
   "execution_count": null,
   "metadata": {},
   "outputs": [],
   "source": []
  }
 ],
 "metadata": {
  "kernelspec": {
   "display_name": ".venv",
   "language": "python",
   "name": "python3"
  },
  "language_info": {
   "codemirror_mode": {
    "name": "ipython",
    "version": 3
   },
   "file_extension": ".py",
   "mimetype": "text/x-python",
   "name": "python",
   "nbconvert_exporter": "python",
   "pygments_lexer": "ipython3",
   "version": "3.10.12"
  }
 },
 "nbformat": 4,
 "nbformat_minor": 2
}
